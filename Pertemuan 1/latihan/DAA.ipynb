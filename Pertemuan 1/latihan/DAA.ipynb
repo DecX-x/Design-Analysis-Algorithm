{
 "cells": [
  {
   "cell_type": "code",
   "execution_count": 1,
   "metadata": {},
   "outputs": [
    {
     "name": "stdout",
     "output_type": "stream",
     "text": [
      "Angka Pertama Lebih Besar 40\n"
     ]
    }
   ],
   "source": [
    "x = int(input(\"Masukkan Angka Pertama: \"))\n",
    "y = int(input(\"Masukkan Angka Kedua: \"))\n",
    "\n",
    "if x > y:\n",
    "    print(f\"Angka Pertama Lebih Besar {x}\")\n",
    "elif x < y:\n",
    "    print(f\"Angka Kedua Lebih Besar {y}\")\n",
    "else:\n",
    "    print(\"Angka Sama Besar\")"
   ]
  },
  {
   "cell_type": "code",
   "execution_count": null,
   "metadata": {},
   "outputs": [],
   "source": []
  }
 ],
 "metadata": {
  "kernelspec": {
   "display_name": "tensorflow",
   "language": "python",
   "name": "python3"
  },
  "language_info": {
   "codemirror_mode": {
    "name": "ipython",
    "version": 3
   },
   "file_extension": ".py",
   "mimetype": "text/x-python",
   "name": "python",
   "nbconvert_exporter": "python",
   "pygments_lexer": "ipython3",
   "version": "3.9.18"
  }
 },
 "nbformat": 4,
 "nbformat_minor": 2
}
