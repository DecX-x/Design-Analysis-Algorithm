{
 "cells": [
  {
   "cell_type": "markdown",
   "metadata": {},
   "source": [
    "# <center>**Tugas Latihan Algoritma dan Pseudocode**</center>\n",
    "\n",
    "\n",
    "Nama: Muhammad Ellbendl Satria\n",
    "\n",
    "NIM: 2023071004\n",
    "\n",
    "Kelas: Desain dan Analisis Algoritma (INF-A)\n",
    "\n",
    "# 1. Cari nilai KPK dari 3 dan 4\n",
    "\n",
    "## Algoritma:\n",
    "1. **Mulai**\n",
    "2. **Input:** Dua bilangan bulat, x dan y.\n",
    "3. **Inisialisasi:**\n",
    "   * Tetapkan `nomor_max` sebagai bilangan terbesar di antara x dan y.\n",
    "4. **Iterasi:**\n",
    "   * Selama kondisi `True` (perulangan tak terbatas):\n",
    "     * Jika `nomor_max` habis dibagi x dan y:\n",
    "       * Tetapkan `nomor_max` sebagai KPK.\n",
    "       * Hentikan perulangan.\n",
    "     * Jika kondisi di atas tidak terpenuhi, tambah `nomor_max` dengan 1.\n",
    "5. **Output:** Tampilkan nilai KPK.\n",
    "6. **Selesai**\n",
    "\n",
    "## Pseudocode:\n",
    "\n",
    "```\n",
    "PROSEDUR KPK(x, y)\n",
    "    NOMOR_MAX <- maksimum(x, y)\n",
    "\n",
    "    ULANGI\n",
    "        JIKA NOMOR_MAX MODULO x = 0 DAN NOMOR_MAX MODULO y = 0 MAKA\n",
    "            KPK <- NOMOR_MAX\n",
    "            KELUAR DARI PERULANGAN\n",
    "        AKHIR JIKA\n",
    "        NOMOR_MAX <- NOMOR_MAX + 1\n",
    "    HINGGA SALAH\n",
    "\n",
    "    KEMBALIKAN KPK\n",
    "AKHIR PROSEDUR"
   ]
  },
  {
   "cell_type": "code",
   "execution_count": 1,
   "metadata": {},
   "outputs": [
    {
     "name": "stdout",
     "output_type": "stream",
     "text": [
      "12\n"
     ]
    }
   ],
   "source": [
    "def kpk(x,y):\n",
    "    \n",
    "    nomor_max = max(x,y)\n",
    "\n",
    "    while True:\n",
    "        if nomor_max % x == 0 and nomor_max % y == 0:\n",
    "            kpk = nomor_max\n",
    "            break\n",
    "        nomor_max += 1\n",
    "    return kpk\n",
    "\n",
    "hasil = kpk(3,4)\n",
    "print(hasil) "
   ]
  },
  {
   "cell_type": "markdown",
   "metadata": {},
   "source": [
    "# 2. Fungsi untuk menukar posisi dua variabel x dan y\n",
    "\n",
    "## Algoritma:\n",
    "\n",
    "1. **Mulai**\n",
    "2. **Inisialisasi:**\n",
    "   * Tetapkan isi piring1 sebagai 'manggis'.\n",
    "   * Tetapkan isi piring2 sebagai 'pisang'.\n",
    "   * Tetapkan isi piring3 sebagai kosong (string kosong).\n",
    "3. **Panggil Fungsi:**\n",
    "   * Panggil fungsi `menukar_piring` dengan argumen piring1 dan piring2.\n",
    "4. **Fungsi `menukar_piring`:**\n",
    "   * Salin isi piring1 ke piring3 (sebagai penyimpanan sementara).\n",
    "   * Salin isi piring2 ke piring1 (isi piring1 sekarang menjadi isi piring2).\n",
    "   * Salin isi piring3 (yang sebelumnya adalah isi piring1) ke piring2 (isi piring2 sekarang menjadi isi piring1 yang awal).\n",
    "   * Kembalikan nilai piring1 dan piring2 yang sudah ditukar.\n",
    "5. **Tampilkan Hasil:**\n",
    "   * Cetak nilai piring1 dan piring2 yang baru.\n",
    "6. **Selesai**\n",
    "\n",
    "## Pseudocode:\n",
    "\n",
    "```\n",
    "PROSEDUR MENUKAR_PIRING(piring1, piring2)\n",
    "    piring3 <- piring1\n",
    "    piring1 <- piring2\n",
    "    piring2 <- piring3\n",
    "    KEMBALIKAN piring1, piring2\n",
    "AKHIR PROSEDUR\n",
    "\n",
    "// Program Utama\n",
    "piring1 <- \"manggis\"\n",
    "piring2 <- \"pisang\"\n",
    "piring3 <- \"\"\n",
    "\n",
    "piring1, piring2 <- MENUKAR_PIRING(piring1, piring2)\n",
    "\n",
    "TAMPILKAN piring1\n",
    "TAMPILKAN piring2\n",
    "```"
   ]
  },
  {
   "cell_type": "code",
   "execution_count": 1,
   "metadata": {},
   "outputs": [
    {
     "name": "stdout",
     "output_type": "stream",
     "text": [
      "piring1: pisang\n",
      "piring2: manggis\n"
     ]
    }
   ],
   "source": [
    "piring1 = 'manggis'\n",
    "piring2 = 'pisang'\n",
    "piring3 = \"\"\n",
    "\n",
    "def menukar_piring(piring1, piring2):\n",
    "    piring3 = piring1\n",
    "    piring1 = piring2\n",
    "    piring2 = piring3\n",
    "    return piring1, piring2\n",
    "\n",
    "piring1, piring2 = menukar_piring(piring1, piring2)\n",
    "print(f\"piring1: {piring1}\")\n",
    "print(f\"piring2: {piring2}\")"
   ]
  },
  {
   "cell_type": "markdown",
   "metadata": {},
   "source": [
    "# 3. Fungsi untuk menghitung luas Segitiga\n",
    "\n",
    "## Algoritma:\n",
    "\n",
    "1. **Mulai**\n",
    "2. **Definisi Fungsi:**\n",
    "   * Definisikan fungsi `luas_segitiga` dengan parameter `alas` dan `tinggi`.\n",
    "3. **Perhitungan Luas:**\n",
    "   * Hitung luas segitiga menggunakan rumus: luas = 0.5 * alas * tinggi.\n",
    "4. **Kembalikan Nilai:**\n",
    "   * Kembalikan nilai luas yang telah dihitung.\n",
    "5. **Panggil Fungsi:**\n",
    "   * Panggil fungsi `luas_segitiga` dengan nilai alas 25 dan tinggi 30, simpan hasilnya dalam variabel `hasil`.\n",
    "6. **Tampilkan Hasil:**\n",
    "   * Tampilkan nilai `hasil` (luas segitiga).\n",
    "7. **Selesai**\n",
    "\n",
    "\n",
    "## Pseudocode:\n",
    "\n",
    "```\n",
    "PROSEDUR LUAS_SEGITIGA(alas, tinggi)\n",
    "    luas <- 0.5 * alas * tinggi\n",
    "    KEMBALIKAN luas\n",
    "AKHIR PROSEDUR\n",
    "\n",
    "// Program Utama\n",
    "alas <- 25\n",
    "tinggi <- 30\n",
    "hasil <- LUAS_SEGITIGA(alas, tinggi)\n",
    "TAMPILKAN hasil\n",
    "```\n",
    "\n",
    "\n"
   ]
  },
  {
   "cell_type": "code",
   "execution_count": 3,
   "metadata": {},
   "outputs": [
    {
     "name": "stdout",
     "output_type": "stream",
     "text": [
      "375.0\n"
     ]
    }
   ],
   "source": [
    "def luas_segitiga(alas, tinggi):\n",
    "    luas = 0.5 * alas * tinggi\n",
    "    return luas\n",
    "\n",
    "hasil = luas_segitiga(25,30)\n",
    "print(hasil)\n"
   ]
  },
  {
   "cell_type": "markdown",
   "metadata": {},
   "source": [
    "# 4. Fungsi untuk menghitung luas jajar genjang\n",
    "\n",
    "## Algoritma:\n",
    "\n",
    "1. **Mulai**\n",
    "2. **Definisi Fungsi:**\n",
    "   * Definisikan fungsi `luas_jajar_genjang` dengan parameter `alas` dan `tinggi`.\n",
    "3. **Perhitungan Luas:**\n",
    "   * Hitung luas jajar genjang menggunakan rumus: luas = alas * tinggi.\n",
    "4. **Kembalikan Nilai:**\n",
    "   * Kembalikan nilai luas yang telah dihitung.\n",
    "5. **Panggil Fungsi:**\n",
    "   * Panggil fungsi `luas_jajar_genjang` dengan nilai alas 5 dan tinggi 3, simpan hasilnya dalam variabel `hasil`.\n",
    "6. **Tampilkan Hasil:**\n",
    "   * Tampilkan nilai `hasil` (luas jajar genjang).\n",
    "7. **Selesai**\n",
    "\n",
    "\n",
    "\n",
    "## Pseudocode:\n",
    "```\n",
    "PROSEDUR LUAS_JAJAR_GENJANG(alas, tinggi)\n",
    "    luas <- alas * tinggi\n",
    "    KEMBALIKAN luas\n",
    "AKHIR PROSEDUR\n",
    "\n",
    "// Program Utama\n",
    "alas <- 5\n",
    "tinggi <- 3\n",
    "hasil <- LUAS_JAJAR_GENJANG(alas, tinggi)\n",
    "TAMPILKAN hasil\n",
    "```\n",
    "\n"
   ]
  },
  {
   "cell_type": "code",
   "execution_count": 4,
   "metadata": {},
   "outputs": [
    {
     "name": "stdout",
     "output_type": "stream",
     "text": [
      "15\n"
     ]
    }
   ],
   "source": [
    "def luas_jajar_genjang(alas, tinggi):\n",
    "    luas = alas * tinggi\n",
    "    return luas\n",
    "\n",
    "hasil = luas_jajar_genjang(5,3)\n",
    "print(hasil)"
   ]
  },
  {
   "cell_type": "markdown",
   "metadata": {},
   "source": [
    "# 5. Fungsi untuk menghitung volume tabung\n",
    "\n",
    "## Algoritma:\n",
    "\n",
    "1. **Mulai**\n",
    "2. **Definisi Fungsi:**\n",
    "   * Definisikan fungsi `volume_tabung` dengan parameter `jari_jari` dan `tinggi`.\n",
    "3. **Perhitungan Volume:**\n",
    "   * Hitung volume tabung menggunakan rumus: volume = π * jari-jari^2 * tinggi.\n",
    "4. **Kembalikan Nilai:**\n",
    "   * Kembalikan nilai volume yang telah dihitung.\n",
    "5. **Panggil Fungsi:**\n",
    "   * Panggil fungsi `volume_tabung` dengan nilai jari-jari 5 dan tinggi 3, simpan hasilnya dalam variabel `hasil`.\n",
    "6. **Tampilkan Hasil:**\n",
    "   * Tampilkan nilai `hasil` (volume tabung).\n",
    "7. **Selesai**\n",
    "\n",
    "\n",
    "## Pseudocode:\n",
    "\n",
    "```\n",
    "PROSEDUR VOLUME_TABUNG(jari_jari, tinggi)\n",
    "    PI <- 3.14\n",
    "    volume <- PI * jari_jari * jari_jari * tinggi\n",
    "    KEMBALIKAN volume\n",
    "AKHIR PROSEDUR\n",
    "\n",
    "// Program Utama\n",
    "jari_jari <- 5\n",
    "tinggi <- 3\n",
    "hasil <- VOLUME_TABUNG(jari_jari, tinggi)\n",
    "TAMPILKAN hasil\n",
    "```"
   ]
  },
  {
   "cell_type": "code",
   "execution_count": 5,
   "metadata": {},
   "outputs": [
    {
     "name": "stdout",
     "output_type": "stream",
     "text": [
      "235.5\n"
     ]
    }
   ],
   "source": [
    "def volume_tabung(jari_jari, tinggi):\n",
    "    return 3.14 * jari_jari ** 2 * tinggi\n",
    "\n",
    "hasil = volume_tabung(5,3)\n",
    "print(hasil)"
   ]
  },
  {
   "cell_type": "markdown",
   "metadata": {},
   "source": [
    "# 6. Fungsi untuk menghitung volume kerucut\n",
    "\n",
    "## Algoritma:\n",
    "\n",
    "1. **Mulai**\n",
    "2. **Definisi Fungsi:**\n",
    "   * Definisikan fungsi `volume_kerucut` yang menerima dua parameter: `diameter` dan `tinggi`.\n",
    "3. **Konversi:**\n",
    "   * Hitung jari-jari dengan membagi diameter dengan 2.\n",
    "4. **Perhitungan Volume:**\n",
    "   * Hitung volume kerucut menggunakan rumus yang telah disebutkan.\n",
    "5. **Kembalikan Nilai:**\n",
    "   * Kembalikan nilai volume yang telah dihitung.\n",
    "6. **Panggil Fungsi:**\n",
    "   * Panggil fungsi `volume_kerucut` dengan nilai diameter 5 dan tinggi 3.\n",
    "7. **Tampilkan Hasil:**\n",
    "   * Tampilkan nilai volume yang dihasilkan oleh fungsi.\n",
    "8. **Selesai**\n",
    "\n",
    "\n",
    "## Pseudocode\n",
    "\n",
    "```\n",
    "PROSEDUR VOLUME_KERUCUT(diameter, tinggi)\n",
    "    jari_jari <- diameter / 2\n",
    "    PI <- 3.14\n",
    "    volume <- (1/3) * PI * jari_jari * jari_jari * tinggi\n",
    "    KEMBALIKAN volume\n",
    "AKHIR PROSEDUR\n",
    "\n",
    "// Program Utama\n",
    "diameter <- 5\n",
    "tinggi <- 3\n",
    "hasil <- VOLUME_KERUCUT(diameter, tinggi)\n",
    "TAMPILKAN hasil\n",
    "```"
   ]
  },
  {
   "cell_type": "code",
   "execution_count": 6,
   "metadata": {},
   "outputs": [
    {
     "name": "stdout",
     "output_type": "stream",
     "text": [
      "19.625\n"
     ]
    }
   ],
   "source": [
    "def volume_kerucut(diameter, tinggi):\n",
    "    diameter_to_jarijari = diameter / 2\n",
    "\n",
    "    volume = 1/3 * 3.14 * diameter_to_jarijari**2 * tinggi\n",
    "    return volume\n",
    "hasil = volume_kerucut(5,3)\n",
    "print(hasil)\n"
   ]
  },
  {
   "cell_type": "code",
   "execution_count": null,
   "metadata": {},
   "outputs": [],
   "source": []
  }
 ],
 "metadata": {
  "kernelspec": {
   "display_name": "tensorflow",
   "language": "python",
   "name": "python3"
  },
  "language_info": {
   "codemirror_mode": {
    "name": "ipython",
    "version": 3
   },
   "file_extension": ".py",
   "mimetype": "text/x-python",
   "name": "python",
   "nbconvert_exporter": "python",
   "pygments_lexer": "ipython3",
   "version": "3.9.18"
  }
 },
 "nbformat": 4,
 "nbformat_minor": 2
}
